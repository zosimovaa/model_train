{
 "cells": [
  {
   "cell_type": "markdown",
   "metadata": {},
   "source": [
    "# Task 1.1\n",
    "\n",
    "**Goal**\n",
    "\n",
    "We train the network in the correct sequence of actions on the stock exchange: waiting for a purchase -> buying -> waiting for a sale -> selling. Without profit orientation.\n",
    " \n",
    "**Observation**\n",
    " - trade state (open / close)\n",
    "\n",
    "**Reward/Penalty**\n",
    "\n",
    "The agent receives a positive reward when the deal is closed.\n"
   ]
  },
  {
   "cell_type": "markdown",
   "metadata": {},
   "source": [
    "# Imports"
   ]
  },
  {
   "cell_type": "code",
   "execution_count": 1,
   "metadata": {},
   "outputs": [
    {
     "name": "stdout",
     "output_type": "stream",
     "text": [
      "gen12.1-Abstract-01-SequenceTraining\n"
     ]
    }
   ],
   "source": [
    "# Systen libraries\n",
    "import os\n",
    "import sys\n",
    "import yaml\n",
    "import random\n",
    "import warnings\n",
    "import ipynbname\n",
    "import logging.config\n",
    "\n",
    "warnings.filterwarnings('ignore')\n",
    "\n",
    "# for local development\n",
    "RT_LIBS_PATH = \"/Users/alex/Dev_projects/MyOwnRepo/rt_libs/src\"\n",
    "BA_LIBS_PATH = \"/Users/alex/Dev_projects/MyOwnRepo/basic_application/src\"\n",
    "sys.path.append(RT_LIBS_PATH)\n",
    "sys.path.append(BA_LIBS_PATH)\n",
    "\n",
    "# read config\n",
    "with open('config.yaml', \"r\") as stream:\n",
    "    config = yaml.safe_load(stream)\n",
    "    \n",
    "# set logging config\n",
    "log_config = config.get(\"log\", None)\n",
    "logging.config.dictConfig(log_config)\n",
    "\n",
    "# set notebook alias\n",
    "ALIAS = ipynbname.name()\n",
    "print(ALIAS)"
   ]
  },
  {
   "cell_type": "code",
   "execution_count": 2,
   "metadata": {},
   "outputs": [],
   "source": [
    "# DS frameworks\n",
    "import numpy as np\n",
    "import pandas as pd\n",
    "\n",
    "from sklearn.model_selection import train_test_split\n",
    "\n",
    "import matplotlib.pyplot as plt\n",
    "import matplotlib.patches as mpatches\n",
    "import seaborn as sns\n",
    "\n",
    "%matplotlib notebook"
   ]
  },
  {
   "cell_type": "code",
   "execution_count": 3,
   "metadata": {},
   "outputs": [
    {
     "name": "stderr",
     "output_type": "stream",
     "text": [
      "2023-09-23 19:45:35.875688: I tensorflow/core/platform/cpu_feature_guard.cc:193] This TensorFlow binary is optimized with oneAPI Deep Neural Network Library (oneDNN) to use the following CPU instructions in performance-critical operations:  AVX2 FMA\n",
      "To enable them in other operations, rebuild TensorFlow with the appropriate compiler flags.\n"
     ]
    },
    {
     "name": "stdout",
     "output_type": "stream",
     "text": [
      "[PhysicalDevice(name='/physical_device:CPU:0', device_type='CPU')]\n"
     ]
    }
   ],
   "source": [
    "# NN Frameworks\n",
    "import tensorflow as tf\n",
    "from tensorflow.keras.layers import Input, Dense, LSTM, Dropout, Concatenate, BatchNormalization\n",
    "from tensorflow.keras.layers import Conv1D, MaxPool1D, AveragePooling1D, Flatten\n",
    "from tensorflow.keras.optimizers import Adam, RMSprop, SGD\n",
    "from tensorflow.keras.models import Model\n",
    "from tensorflow.keras.models import Sequential\n",
    "from tensorflow.python.keras.models import load_model, clone_model\n",
    "\n",
    "devices = tf.config.list_physical_devices()\n",
    "print(devices)"
   ]
  },
  {
   "cell_type": "code",
   "execution_count": 4,
   "metadata": {},
   "outputs": [],
   "source": [
    "# RT packages\n",
    "from rl import DQNAgent\n",
    "from env import TradeEnv\n",
    "\n",
    "from core_v2 import Constructor, Player\n",
    "from core_v2.data_point import DataPointFactory\n",
    "from core_v2.observation_builder.precompute import PrecomputeOrderbookDiffFeature\n",
    "\n",
    "from train_tools import plot_and_go\n",
    "from train_tools import TrainManager, TrainPlot4"
   ]
  },
  {
   "cell_type": "code",
   "execution_count": 5,
   "metadata": {},
   "outputs": [],
   "source": [
    "seed_value= 0\n",
    "#os.environ['PYTHONHASHSEED']=str(seed_value)\n",
    "random.seed(seed_value)\n",
    "#np.random.seed(seed_value)\n",
    "#tf.random.set_seed(seed_value)"
   ]
  },
  {
   "cell_type": "markdown",
   "metadata": {},
   "source": [
    "# Dataset"
   ]
  },
  {
   "cell_type": "code",
   "execution_count": 7,
   "metadata": {},
   "outputs": [
    {
     "data": {
      "text/plain": [
       "(100, 2)"
      ]
     },
     "metadata": {},
     "output_type": "display_data"
    },
    {
     "data": {
      "text/html": [
       "<div>\n",
       "<style scoped>\n",
       "    .dataframe tbody tr th:only-of-type {\n",
       "        vertical-align: middle;\n",
       "    }\n",
       "\n",
       "    .dataframe tbody tr th {\n",
       "        vertical-align: top;\n",
       "    }\n",
       "\n",
       "    .dataframe thead th {\n",
       "        text-align: right;\n",
       "    }\n",
       "</style>\n",
       "<table border=\"1\" class=\"dataframe\">\n",
       "  <thead>\n",
       "    <tr style=\"text-align: right;\">\n",
       "      <th></th>\n",
       "      <th>lowest_ask</th>\n",
       "      <th>highest_bid</th>\n",
       "    </tr>\n",
       "  </thead>\n",
       "  <tbody>\n",
       "    <tr>\n",
       "      <th>0</th>\n",
       "      <td>1.0</td>\n",
       "      <td>2.0</td>\n",
       "    </tr>\n",
       "    <tr>\n",
       "      <th>1</th>\n",
       "      <td>1.0</td>\n",
       "      <td>2.0</td>\n",
       "    </tr>\n",
       "    <tr>\n",
       "      <th>2</th>\n",
       "      <td>1.0</td>\n",
       "      <td>2.0</td>\n",
       "    </tr>\n",
       "  </tbody>\n",
       "</table>\n",
       "</div>"
      ],
      "text/plain": [
       "   lowest_ask  highest_bid\n",
       "0         1.0          2.0\n",
       "1         1.0          2.0\n",
       "2         1.0          2.0"
      ]
     },
     "metadata": {},
     "output_type": "display_data"
    }
   ],
   "source": [
    "n_steps = 100\n",
    "data = np.concatenate([np.ones(n_steps).reshape(-1,1), np.ones(n_steps).reshape(-1,1)*2], axis=1)\n",
    "data_train = pd.DataFrame(data, columns=[\"lowest_ask\", \"highest_bid\"], dtype=np.float32)\n",
    "display(data_train.shape)\n",
    "display(data_train.head(3))"
   ]
  },
  {
   "cell_type": "markdown",
   "metadata": {},
   "source": [
    "# Init components"
   ]
  },
  {
   "cell_type": "markdown",
   "metadata": {},
   "source": [
    "## Core"
   ]
  },
  {
   "cell_type": "code",
   "execution_count": 15,
   "metadata": {},
   "outputs": [],
   "source": [
    "core_config = {\n",
    "    \"action_controller\":{\"class\": \"BasicTrainController\", \"params\":{ \n",
    "            \"penalty\": -1, \n",
    "            \"wait_scale\": 0, \n",
    "            \"open_scale\": 0, \n",
    "            \"hold_scale\": 0, \n",
    "            \"close_scale\": 1, \n",
    "            \"last_points_mean\": 0\n",
    "        },},\n",
    "\n",
    "\n",
    "    \"observation_builder\":{\n",
    "        \"class\": \"ObservationBuilder\",\n",
    "        \"inputs\": [\n",
    "            {\"class\": \"Input1D\", \"features\": [{\"class\": \"RawContextFeature\", \"params\": {\"name\":\"is_open\"}}]},\n",
    "    ]\n",
    "    }\n",
    "}\n",
    "# = = = = = = = = = = = = = = = = = = = = = = = = = = = = =\n",
    "core_constructor = Constructor()\n",
    "env_core = core_constructor.get_core(ALIAS, core_config)"
   ]
  },
  {
   "cell_type": "markdown",
   "metadata": {},
   "source": [
    "## Datapoint factory"
   ]
  },
  {
   "cell_type": "code",
   "execution_count": 16,
   "metadata": {},
   "outputs": [],
   "source": [
    "observation_len = 1\n",
    "\n",
    "dp_factory_config = {\n",
    "    \"observation_len\": observation_len,             # Observation length\n",
    "    \"offset\": observation_len,                      # Data history length (Observation + some tail of data for custom calculation)\n",
    "    \"future_points\": 0,                             # Points from future for trand indicator feature\n",
    "    \"step_size\": 1,                                 # Dataset step size\n",
    " }\n",
    "\n",
    "dpf_train = DataPointFactory(dataset=data_train, **dp_factory_config)\n",
    "dpf_test = DataPointFactory(dataset=data_train, **dp_factory_config)"
   ]
  },
  {
   "cell_type": "markdown",
   "metadata": {},
   "source": [
    "## Model"
   ]
  },
  {
   "cell_type": "code",
   "execution_count": 17,
   "metadata": {},
   "outputs": [
    {
     "name": "stdout",
     "output_type": "stream",
     "text": [
      "Model: \"model_4\"\n",
      "_________________________________________________________________\n",
      " Layer (type)                Output Shape              Param #   \n",
      "=================================================================\n",
      " input_5 (InputLayer)        [(None, 1)]               0         \n",
      "                                                                 \n",
      " dense_12 (Dense)            (None, 8)                 16        \n",
      "                                                                 \n",
      " dense_13 (Dense)            (None, 8)                 72        \n",
      "                                                                 \n",
      " dense_14 (Dense)            (None, 4)                 36        \n",
      "                                                                 \n",
      "=================================================================\n",
      "Total params: 124\n",
      "Trainable params: 124\n",
      "Non-trainable params: 0\n",
      "_________________________________________________________________\n",
      "None\n"
     ]
    }
   ],
   "source": [
    "env = TradeEnv(env_core, dpf_train, alias=ALIAS)\n",
    "\n",
    "\n",
    "ACTIVATION = 'tanh'\n",
    "def create_q_model(env):\n",
    "    num_actions = env.action_space\n",
    "    #----------------------------------------------\n",
    "    \n",
    "    inp_static = Input(shape=env.observation_space[0])\n",
    "    classif = Dense(8, activation=ACTIVATION)(inp_static)\n",
    "    classif = Dense(8, activation=ACTIVATION)(classif)\n",
    "    output = Dense(num_actions, activation='softmax')(classif)\n",
    "\n",
    "    model = Model(inputs=inp_static, outputs=output)\n",
    "    return model\n",
    "\n",
    "model = create_q_model(env)\n",
    "model_target = create_q_model(env)\n",
    "\n",
    "print(model.summary())"
   ]
  },
  {
   "cell_type": "markdown",
   "metadata": {},
   "source": [
    "# Train"
   ]
  },
  {
   "cell_type": "code",
   "execution_count": 18,
   "metadata": {},
   "outputs": [],
   "source": [
    "random.seed(seed_value)\n",
    "\n",
    "core_train = core_constructor.get_core(\"train\", core_config)\n",
    "core_test = core_constructor.get_core(\"test\", core_config)\n",
    "env = TradeEnv(core_train, dpf_train, alias=ALIAS, log=True, log_obs=True)\n",
    "\n",
    "model = create_q_model(env)\n",
    "model_target = create_q_model(env)\n",
    "\n",
    "agent = DQNAgent(env, model, model_target)\n",
    "\n",
    "agent.epsilon_greedy_frames = 2000\n",
    "agent.epsilon_random_frames = int(0.05 * agent.epsilon_greedy_frames)\n",
    "agent.max_memory_length = int(1.0 * agent.epsilon_greedy_frames)\n",
    "\n",
    "agent.max_steps_per_episode = 50000\n",
    "\n",
    "agent.gamma = 0.95\n",
    "agent.epsilon_min = 0.01\n",
    "agent.batch_size = 32\n",
    "agent.update_after_actions = 4\n",
    "agent.update_target_network = 1000\n",
    "agent.loss_function = tf.keras.losses.Huber() #tf.keras.losses.MeanSquaredError()\n",
    "\n",
    "learning_rate = 0.0005\n",
    "agent.optimizer = Adam(learning_rate=learning_rate, clipnorm=0.001)    #Adam(learning_rate=learning_rate) RMSprop(learning_rate=learning_rate) SGD(learning_rate=learning_rate)\n",
    "\n",
    "\n",
    "tp = TrainPlot4()\n",
    "tm = TrainManager(agent, core_test, dpf_test, tp, alias=ALIAS)"
   ]
  },
  {
   "cell_type": "code",
   "execution_count": 19,
   "metadata": {},
   "outputs": [
    {
     "data": {
      "application/vnd.jupyter.widget-view+json": {
       "model_id": "4ce9aa50020a4caeae4f9d36646a47e0",
       "version_major": 2,
       "version_minor": 0
      },
      "text/plain": [
       "FigureWidget({\n",
       "    'data': [{'legendgroup': '1',\n",
       "              'line': {'color': '#109618', 'width': 1},\n",
       "              'mode': 'lines',\n",
       "              'name': 'Train',\n",
       "              'type': 'scatter',\n",
       "              'uid': '4351d578-b29e-4856-aff3-9362362940b5',\n",
       "              'xaxis': 'x',\n",
       "              'yaxis': 'y'},\n",
       "             {'legendgroup': '1',\n",
       "              'line': {'color': '#FF9900', 'width': 1},\n",
       "              'mode': 'lines',\n",
       "              'name': 'Test',\n",
       "              'type': 'scatter',\n",
       "              'uid': '1a772c38-1376-416e-95c7-de2ef67a3fe7',\n",
       "              'xaxis': 'x',\n",
       "              'yaxis': 'y'},\n",
       "             {'legendgroup': '2',\n",
       "              'line': {'color': '#D62728', 'width': 1},\n",
       "              'mode': 'lines',\n",
       "              'name': 'Train',\n",
       "              'type': 'scatter',\n",
       "              'uid': '0495b6ae-aeb1-4cb4-97d8-741956381fc8',\n",
       "              'xaxis': 'x2',\n",
       "              'yaxis': 'y3'},\n",
       "             {'legendgroup': '2',\n",
       "              'line': {'color': '#FF9900', 'width': 1},\n",
       "              'mode': 'lines',\n",
       "              'name': 'Test',\n",
       "              'type': 'scatter',\n",
       "              'uid': '32074b53-651c-431b-b260-e3beeded3654',\n",
       "              'xaxis': 'x2',\n",
       "              'yaxis': 'y3'},\n",
       "             {'legendgroup': '3',\n",
       "              'line': {'color': '#1616A7', 'dash': 'dot', 'width': 1},\n",
       "              'mode': 'lines',\n",
       "              'name': 'PosTrades',\n",
       "              'type': 'scatter',\n",
       "              'uid': '8957f00d-dadf-458e-a1d5-735453820cb2',\n",
       "              'xaxis': 'x3',\n",
       "              'yaxis': 'y5'},\n",
       "             {'legendgroup': '3',\n",
       "              'line': {'color': '#FB0D0D', 'dash': 'dot', 'width': 1},\n",
       "              'mode': 'lines',\n",
       "              'name': 'NegTrades',\n",
       "              'type': 'scatter',\n",
       "              'uid': '2381ba9a-cfd5-479e-be71-ada2b853ba0c',\n",
       "              'xaxis': 'x3',\n",
       "              'yaxis': 'y5'},\n",
       "             {'legendgroup': '3',\n",
       "              'line': {'color': 'rgb(102,102,102)', 'width': 1},\n",
       "              'mode': 'lines',\n",
       "              'name': 'Sparsity',\n",
       "              'type': 'scatter',\n",
       "              'uid': '51198956-2fe2-4dbc-90b9-1ce8ed58fd29',\n",
       "              'xaxis': 'x3',\n",
       "              'yaxis': 'y6'}],\n",
       "    'layout': {'annotations': [{'font': {'size': 16},\n",
       "                                'showarrow': False,\n",
       "                                'text': 'Trade Balance',\n",
       "                                'x': 0.47,\n",
       "                                'xanchor': 'center',\n",
       "                                'xref': 'paper',\n",
       "                                'y': 1.0,\n",
       "                                'yanchor': 'bottom',\n",
       "                                'yref': 'paper'},\n",
       "                               {'font': {'size': 16},\n",
       "                                'showarrow': False,\n",
       "                                'text': 'Penalties',\n",
       "                                'x': 0.47,\n",
       "                                'xanchor': 'center',\n",
       "                                'xref': 'paper',\n",
       "                                'y': 0.6399999999999999,\n",
       "                                'yanchor': 'bottom',\n",
       "                                'yref': 'paper'},\n",
       "                               {'font': {'size': 16},\n",
       "                                'showarrow': False,\n",
       "                                'text': 'Num of trades by profit',\n",
       "                                'x': 0.47,\n",
       "                                'xanchor': 'center',\n",
       "                                'xref': 'paper',\n",
       "                                'y': 0.27999999999999997,\n",
       "                                'yanchor': 'bottom',\n",
       "                                'yref': 'paper'}],\n",
       "               'autosize': False,\n",
       "               'height': 800,\n",
       "               'legend': {'tracegroupgap': 180},\n",
       "               'paper_bgcolor': 'rgba(255,255,255,0)',\n",
       "               'plot_bgcolor': 'rgba(245,245,245,245)',\n",
       "               'template': '...',\n",
       "               'width': 1000,\n",
       "               'xaxis': {'anchor': 'y', 'domain': [0.0, 0.94], 'matches': 'x3', 'showticklabels': False},\n",
       "               'xaxis2': {'anchor': 'y3', 'domain': [0.0, 0.94], 'matches': 'x3', 'showticklabels': False},\n",
       "               'xaxis3': {'anchor': 'y5', 'domain': [0.0, 0.94]},\n",
       "               'yaxis': {'anchor': 'x', 'domain': [0.72, 1.0]},\n",
       "               'yaxis2': {'anchor': 'x', 'overlaying': 'y', 'side': 'right'},\n",
       "               'yaxis3': {'anchor': 'x2', 'domain': [0.36, 0.6399999999999999]},\n",
       "               'yaxis4': {'anchor': 'x2', 'overlaying': 'y3', 'side': 'right'},\n",
       "               'yaxis5': {'anchor': 'x3', 'domain': [0.0, 0.27999999999999997]},\n",
       "               'yaxis6': {'anchor': 'x3', 'overlaying': 'y5', 'range': [0, 1], 'showgrid': False, 'side': 'right'}}\n",
       "})"
      ]
     },
     "metadata": {},
     "output_type": "display_data"
    }
   ],
   "source": [
    "tp.init_plot(width=1000, height=800)\n",
    "tp.update_plot(tm.history)"
   ]
  },
  {
   "cell_type": "code",
   "execution_count": 20,
   "metadata": {
    "scrolled": true
   },
   "outputs": [
    {
     "name": "stdout",
     "output_type": "stream",
     "text": [
      "19:48:59 Running reward: -18.10   at episode 11   | frame 1000   | eps: 0.50 | Running loss: 0.25281\n",
      "19:49:09 Running reward: 3.95     at episode 21   | frame 2000   | eps: 0.01 | Running loss: 0.18777\n",
      "19:49:18 Running reward: 18.67    at episode 31   | frame 3000   | eps: 0.01 | Running loss: 0.16864\n",
      "done\n"
     ]
    }
   ],
   "source": [
    "tm.go(max_frames=3000, test_every=100, snapshot_every=3000, update_plot_every=100, save_since=0.06)"
   ]
  },
  {
   "cell_type": "markdown",
   "metadata": {},
   "source": [
    "# Results\n",
    "\n",
    "The simplest task of all.\n",
    "\n",
    "The network has learned an effective algorithm - it opens and immediately closes a transaction, without waiting. The greater the number of closed transactions, the higher the total reward.\n",
    "\n",
    "Tested different learning rates. With small values (0.00025) it takes longer to train, as it grows (0.001 and above) it reaches the optimal result faster. At a high value (0.5), the dispersion of the results increased significantly.\n",
    "\n",
    "Increasing the depth of the network compensates for the duration of training with a small learning rate - with the addition of the next layer, the learning rate increases. But the process is not linear - from a certain point the training duration begins to increase (gradient decay?)\n",
    "\n",
    "Increasing the complexity of the network (number of parameters, not layers) gives the same effect - it learns faster and more stable. And here everything is linear - even with an increase in the number of neurons by 2 orders of magnitude, it learns stably. The reduction in learning rate will be noticeable on a large network/dataset."
   ]
  },
  {
   "cell_type": "markdown",
   "metadata": {},
   "source": [
    "----\n",
    "\n",
    "\n",
    "При одном слое из 4-х нейронов к концу обучения не выходила на оптимальный результат. При увеличении кол-ва нейронов или глубины алгоритм стал сходиться.\n",
    "\n",
    "\n",
    "При lr=0.00025 на оптимум сеть вышла после 5-7 тыс фреймов. Если поставить lr выше (например 0.005) то выход на оптимум происходим быстрее - \n",
    "\n",
    "- 4A\n",
    "    - 0.00025\n",
    "        - 1200 и 3200\n",
    "        - 7100\n",
    "        - 4100, штрафы ушли с 1000\n",
    "        - 3500, штрафы ушли с 1400\n",
    "        - 2500, штрафы ушли с 2600\n",
    "        - 2400, штрафы ушли с 2500\n",
    "    - 0.0005\n",
    "        - 400, штрафы ушли с 400\n",
    "        - 900, штрафы ушли с 900\n",
    "        - 2500, штрафы ушли с 900\n",
    "        - 900, штрафы ушли с 200\n",
    "        - 1300, штрафы ушли с 1300\n",
    "        \n",
    "    - 0.001\n",
    "        - 1800, штрафы ушли с 500\n",
    "        - 300, штрафы ушли с 300\n",
    "        - 1600, штрафы ушли с 700\n",
    "        - 800, штрафы ушли с 800\n",
    "        - 1500, штрафы ушли с 800\n",
    "        \n",
    "    - 0.002\n",
    "        - 1200, штрафы ушли с 300\n",
    "        - 200, штрафы ушли с 100\n",
    "        - 300, штрафы ушли с 300\n",
    "        - 300, штрафы ушли с 300\n",
    "        - 400, штрафы ушли с 400\n",
    "        \n",
    "    - 0.005\n",
    "        - 300, штрафы ушли с 100\n",
    "        - 100, штрафы ушли с 100\n",
    "        - 300 и 1000, штрафы ушли с 300\n",
    "        - 200, штрафы ушли с 200\n",
    "        - 1000, штрафы ушли с 400\n",
    "    - 0.5 - нестабильно\n",
    "    "
   ]
  }
 ],
 "metadata": {
  "kernelspec": {
   "display_name": "rt_project_env",
   "language": "python",
   "name": "rt_project_env"
  },
  "language_info": {
   "codemirror_mode": {
    "name": "ipython",
    "version": 3
   },
   "file_extension": ".py",
   "mimetype": "text/x-python",
   "name": "python",
   "nbconvert_exporter": "python",
   "pygments_lexer": "ipython3",
   "version": "3.9.8"
  }
 },
 "nbformat": 4,
 "nbformat_minor": 4
}
