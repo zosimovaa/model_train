{
 "cells": [
  {
   "cell_type": "markdown",
   "metadata": {},
   "source": [
    "# Постановка задачи\n",
    "\n",
    "## Task #1\n",
    "\n",
    "**Цель**\n",
    "Обучаем сеть корректной последовательности действий на бирже: ожидание покупки -> покупка -> ожидание продажи -> продажа.\n",
    " \n",
    "**Observation**\n",
    " - Состояние сделки\n",
    "\n",
    "**Действия**\n",
    " 1. Ожидание момента для покупки\n",
    " 2. Покупка (открытие позиции)\n",
    " 3. Ожидание момента для продажи\n",
    " 4. Продажа (закрытие позици)\n",
    "\n",
    "**Награда/штраф**\n",
    "Действия 1 и 2 возможны при отсутствии открытой позиции. Действия 3 и 4 допустимы только при открытой позиции. При нарушении этого требования - сеть штрафуется.\n",
    " \n",
    "Сеть получает награду при закрытии позиции."
   ]
  },
  {
   "cell_type": "markdown",
   "metadata": {},
   "source": [
    "# Импорты"
   ]
  },
  {
   "cell_type": "code",
   "execution_count": 1,
   "metadata": {},
   "outputs": [
    {
     "name": "stdout",
     "output_type": "stream",
     "text": [
      "gen12.1-rnn-Abstract-01-SequenceTraining\n"
     ]
    }
   ],
   "source": [
    "# Системные импорты и настройки\n",
    "import os\n",
    "import sys\n",
    "import yaml\n",
    "import random\n",
    "import warnings\n",
    "import ipynbname\n",
    "import logging.config\n",
    "\n",
    "warnings.filterwarnings('ignore')\n",
    "\n",
    "# for local development\n",
    "RT_LIBS_PATH = \"/Users/alex/Dev_projects/MyOwnRepo/rt_libs/src\"\n",
    "BA_LIBS_PATH = \"/Users/alex/Dev_projects/MyOwnRepo/basic_application/src\"\n",
    "sys.path.append(RT_LIBS_PATH)\n",
    "sys.path.append(BA_LIBS_PATH)\n",
    "\n",
    "# read config\n",
    "with open('config.yaml', \"r\") as stream:\n",
    "    config = yaml.safe_load(stream)\n",
    "    \n",
    "# set logging config\n",
    "log_config = config.get(\"log\", None)\n",
    "logging.config.dictConfig(log_config)\n",
    "\n",
    "# set notebook alias\n",
    "ALIAS = ipynbname.name()\n",
    "print(ALIAS)"
   ]
  },
  {
   "cell_type": "code",
   "execution_count": 2,
   "metadata": {},
   "outputs": [],
   "source": [
    "# DS frameworks\n",
    "import numpy as np\n",
    "import pandas as pd\n",
    "\n",
    "from sklearn.model_selection import train_test_split\n",
    "\n",
    "import matplotlib.pyplot as plt\n",
    "import matplotlib.patches as mpatches\n",
    "import seaborn as sns\n",
    "\n",
    "%matplotlib notebook"
   ]
  },
  {
   "cell_type": "code",
   "execution_count": 3,
   "metadata": {},
   "outputs": [
    {
     "name": "stderr",
     "output_type": "stream",
     "text": [
      "2023-06-20 10:54:56.625983: I tensorflow/core/platform/cpu_feature_guard.cc:193] This TensorFlow binary is optimized with oneAPI Deep Neural Network Library (oneDNN) to use the following CPU instructions in performance-critical operations:  AVX2 FMA\n",
      "To enable them in other operations, rebuild TensorFlow with the appropriate compiler flags.\n"
     ]
    },
    {
     "name": "stdout",
     "output_type": "stream",
     "text": [
      "[PhysicalDevice(name='/physical_device:CPU:0', device_type='CPU')]\n"
     ]
    }
   ],
   "source": [
    "# NN Frameworks\n",
    "import tensorflow as tf\n",
    "from tensorflow.keras.layers import Input, Dense, LSTM, Dropout, Concatenate, BatchNormalization\n",
    "from tensorflow.keras.layers import Conv1D, MaxPool1D, AveragePooling1D, Flatten\n",
    "from tensorflow.keras.optimizers import Adam, RMSprop, SGD\n",
    "from tensorflow.keras.models import Model\n",
    "from tensorflow.keras.models import Sequential\n",
    "from tensorflow.python.keras.models import load_model, clone_model\n",
    "\n",
    "devices = tf.config.list_physical_devices()\n",
    "print(devices)"
   ]
  },
  {
   "cell_type": "code",
   "execution_count": 4,
   "metadata": {},
   "outputs": [],
   "source": [
    "# RT packages\n",
    "from rl import DQNAgent\n",
    "from env import TradeEnv\n",
    "from core import ConstructorGen2\n",
    "\n",
    "from data_point import DataPointFactory\n",
    "\n",
    "from train_tools import Player, plot_and_go\n",
    "\n",
    "from train_tools import Player, plot_and_go\n",
    "from train_tools.train_plot import TrainPlot4\n",
    "from train_tools.train_manager import TrainManager"
   ]
  },
  {
   "cell_type": "code",
   "execution_count": 5,
   "metadata": {},
   "outputs": [],
   "source": [
    "seed_value= 0\n",
    "#os.environ['PYTHONHASHSEED']=str(seed_value)\n",
    "random.seed(seed_value)\n",
    "#np.random.seed(seed_value)\n",
    "#tf.random.set_seed(seed_value)"
   ]
  },
  {
   "cell_type": "markdown",
   "metadata": {},
   "source": [
    "# Конфиг"
   ]
  },
  {
   "cell_type": "code",
   "execution_count": 6,
   "metadata": {},
   "outputs": [],
   "source": [
    "observation_len = 1\n",
    "\n",
    "# Параметры точки наблюдения\n",
    "observation_config = {\n",
    "    \"observation_len\": observation_len,             # Количество точек наблюдения в сэмпле\n",
    "    \"offset\": observation_len,                      # Количество точек наблюдения в сэмпле\n",
    "    \"future_points\": 0,                             # Количество будущех точек для предсказания тренда (временное решение)\n",
    "    \"step_size\": 1,                                 # Шаг по датасету\n",
    " }"
   ]
  },
  {
   "cell_type": "markdown",
   "metadata": {},
   "source": [
    "# Датасет"
   ]
  },
  {
   "cell_type": "code",
   "execution_count": 7,
   "metadata": {},
   "outputs": [
    {
     "data": {
      "text/plain": [
       "(100, 1)"
      ]
     },
     "metadata": {},
     "output_type": "display_data"
    },
    {
     "data": {
      "text/html": [
       "<div>\n",
       "<style scoped>\n",
       "    .dataframe tbody tr th:only-of-type {\n",
       "        vertical-align: middle;\n",
       "    }\n",
       "\n",
       "    .dataframe tbody tr th {\n",
       "        vertical-align: top;\n",
       "    }\n",
       "\n",
       "    .dataframe thead th {\n",
       "        text-align: right;\n",
       "    }\n",
       "</style>\n",
       "<table border=\"1\" class=\"dataframe\">\n",
       "  <thead>\n",
       "    <tr style=\"text-align: right;\">\n",
       "      <th></th>\n",
       "      <th>feature</th>\n",
       "    </tr>\n",
       "  </thead>\n",
       "  <tbody>\n",
       "    <tr>\n",
       "      <th>0</th>\n",
       "      <td>1</td>\n",
       "    </tr>\n",
       "    <tr>\n",
       "      <th>1</th>\n",
       "      <td>1</td>\n",
       "    </tr>\n",
       "    <tr>\n",
       "      <th>2</th>\n",
       "      <td>1</td>\n",
       "    </tr>\n",
       "  </tbody>\n",
       "</table>\n",
       "</div>"
      ],
      "text/plain": [
       "   feature\n",
       "0        1\n",
       "1        1\n",
       "2        1"
      ]
     },
     "metadata": {},
     "output_type": "display_data"
    }
   ],
   "source": [
    "n_steps = 100\n",
    "data_train = pd.DataFrame(np.ones(n_steps), columns=[\"feature\"], dtype=np.int8)\n",
    "display(data_train.shape)\n",
    "display(data_train.head(3))"
   ]
  },
  {
   "cell_type": "markdown",
   "metadata": {},
   "source": [
    "# Инициализация компонентов"
   ]
  },
  {
   "cell_type": "markdown",
   "metadata": {},
   "source": [
    "## Datapoint factory"
   ]
  },
  {
   "cell_type": "code",
   "execution_count": 8,
   "metadata": {},
   "outputs": [],
   "source": [
    "dpf_train = DataPointFactory(dataset=data_train, **observation_config)\n",
    "dpf_test = DataPointFactory(dataset=data_train, **observation_config)"
   ]
  },
  {
   "cell_type": "markdown",
   "metadata": {},
   "source": [
    "## Env"
   ]
  },
  {
   "cell_type": "code",
   "execution_count": 9,
   "metadata": {},
   "outputs": [],
   "source": [
    "core_config = {\n",
    "    \"context\":{\"class\": \"Context\", \"params\":{}},\n",
    "    \"action_controller\":{\n",
    "        \"class\": \"AbstractSequencePrediction\",\n",
    "        \"params\":{ \n",
    "            \"penalty\": -2, \n",
    "            \"reward\": 0,\n",
    "        },\n",
    "    },\n",
    "    \"observation_builder\":{\n",
    "        \"class\": \"ObservationBuilderInput\",\n",
    "        \"inputs\": [\n",
    "            {\"class\": \"Input1D\", \"features\": [{\"class\": \"TradeStateFeature\", \"params\": {}}]\n",
    "            }\n",
    "        ]\n",
    "    }\n",
    "}\n",
    "# = = = = = = = = = = = = = = = = = = = = = = = = = = = = =\n",
    "core_constructor = ConstructorGen2()\n",
    "env_core = core_constructor.get_core(core_config)\n",
    "\n",
    "# train environment\n",
    "env = TradeEnv(env_core, dpf_train, alias=ALIAS, log=False, log_obs=False)"
   ]
  },
  {
   "cell_type": "markdown",
   "metadata": {},
   "source": [
    "# Нейронная сеть"
   ]
  },
  {
   "cell_type": "code",
   "execution_count": 11,
   "metadata": {},
   "outputs": [
    {
     "name": "stderr",
     "output_type": "stream",
     "text": [
      "2023-06-20 10:55:06.062399: I tensorflow/core/platform/cpu_feature_guard.cc:193] This TensorFlow binary is optimized with oneAPI Deep Neural Network Library (oneDNN) to use the following CPU instructions in performance-critical operations:  AVX2 FMA\n",
      "To enable them in other operations, rebuild TensorFlow with the appropriate compiler flags.\n"
     ]
    },
    {
     "name": "stdout",
     "output_type": "stream",
     "text": [
      "Model: \"model\"\n",
      "_________________________________________________________________\n",
      " Layer (type)                Output Shape              Param #   \n",
      "=================================================================\n",
      " input_1 (InputLayer)        [(None, 1, 1)]            0         \n",
      "                                                                 \n",
      " lstm (LSTM)                 (None, 8)                 320       \n",
      "                                                                 \n",
      " dense (Dense)               (None, 4)                 36        \n",
      "                                                                 \n",
      "=================================================================\n",
      "Total params: 356\n",
      "Trainable params: 356\n",
      "Non-trainable params: 0\n",
      "_________________________________________________________________\n",
      "None\n"
     ]
    }
   ],
   "source": [
    "ACTIVATION = 'tanh'\n",
    "def create_q_model(env):\n",
    "    num_actions = env.action_space\n",
    "    #----------------------------------------------\n",
    "    \n",
    "    inp_static = Input(shape=(1,env.observation_space[0]))\n",
    "    classif = LSTM(8, activation=ACTIVATION, return_sequences=False)(inp_static)\n",
    "\n",
    "    output = Dense(num_actions, activation='softmax')(classif)\n",
    "\n",
    "    model = Model(inputs=inp_static, outputs=output)\n",
    "    return model\n",
    "\n",
    "model = create_q_model(env)\n",
    "model_target = create_q_model(env)\n",
    "\n",
    "print(model.summary())"
   ]
  },
  {
   "cell_type": "markdown",
   "metadata": {},
   "source": [
    "# Обучение"
   ]
  },
  {
   "cell_type": "code",
   "execution_count": 16,
   "metadata": {},
   "outputs": [],
   "source": [
    "random.seed(seed_value)\n",
    "\n",
    "core_train = core_constructor.get_core(core_config)\n",
    "core_test = core_constructor.get_core(core_config)\n",
    "env = TradeEnv(core_train, dpf_train, alias=ALIAS, log=False, log_obs=False)\n",
    "\n",
    "model = create_q_model(env)\n",
    "model_target = create_q_model(env)\n",
    "\n",
    "agent = DQNAgent(env, model, model_target)\n",
    "\n",
    "agent.epsilon_greedy_frames = 2000\n",
    "agent.epsilon_random_frames = int(0.05 * agent.epsilon_greedy_frames)\n",
    "agent.max_memory_length = int(1.0 * agent.epsilon_greedy_frames)\n",
    "\n",
    "agent.max_steps_per_episode = 50000\n",
    "\n",
    "agent.gamma = 0.95\n",
    "agent.epsilon_min = 0.01\n",
    "agent.batch_size = 32\n",
    "agent.update_after_actions = 4\n",
    "agent.update_target_network = 250\n",
    "agent.loss_function = tf.keras.losses.Huber() #tf.keras.losses.MeanSquaredError()\n",
    "\n",
    "learning_rate = 0.0005\n",
    "agent.optimizer = Adam(learning_rate=learning_rate, clipnorm=0.001)    #Adam(learning_rate=learning_rate) RMSprop(learning_rate=learning_rate) SGD(learning_rate=learning_rate)\n",
    "\n",
    "\n",
    "tp = TrainPlot4()\n",
    "tm = TrainManager(agent, core_test, dpf_test, tp, alias=ALIAS)"
   ]
  },
  {
   "cell_type": "code",
   "execution_count": 17,
   "metadata": {},
   "outputs": [
    {
     "data": {
      "application/vnd.jupyter.widget-view+json": {
       "model_id": "e6cb8d3e97314758b8d574820a13654e",
       "version_major": 2,
       "version_minor": 0
      },
      "text/plain": [
       "FigureWidget({\n",
       "    'data': [{'legendgroup': '1',\n",
       "              'line': {'color': '#109618', 'width': 1},\n",
       "              'mode': 'lines',\n",
       "              'name': 'Train',\n",
       "              'type': 'scatter',\n",
       "              'uid': '5fa0a86a-9766-4d0e-a883-fe2b8fd50572',\n",
       "              'xaxis': 'x',\n",
       "              'yaxis': 'y'},\n",
       "             {'legendgroup': '1',\n",
       "              'line': {'color': '#FF9900', 'width': 1},\n",
       "              'mode': 'lines',\n",
       "              'name': 'Test',\n",
       "              'type': 'scatter',\n",
       "              'uid': 'd150ae01-912b-47f7-b25f-89ced10d2b47',\n",
       "              'xaxis': 'x',\n",
       "              'yaxis': 'y'},\n",
       "             {'legendgroup': '2',\n",
       "              'line': {'color': '#D62728', 'width': 1},\n",
       "              'mode': 'lines',\n",
       "              'name': 'Train',\n",
       "              'type': 'scatter',\n",
       "              'uid': '54e2e8e6-99e9-446e-acd0-9c8ad4f70738',\n",
       "              'xaxis': 'x2',\n",
       "              'yaxis': 'y3'},\n",
       "             {'legendgroup': '2',\n",
       "              'line': {'color': '#FF9900', 'width': 1},\n",
       "              'mode': 'lines',\n",
       "              'name': 'Test',\n",
       "              'type': 'scatter',\n",
       "              'uid': '3833567f-2223-45c5-a82e-49fca8f6c259',\n",
       "              'xaxis': 'x2',\n",
       "              'yaxis': 'y3'},\n",
       "             {'legendgroup': '3',\n",
       "              'line': {'color': '#1616A7', 'dash': 'dot', 'width': 1},\n",
       "              'mode': 'lines',\n",
       "              'name': 'PosTrades',\n",
       "              'type': 'scatter',\n",
       "              'uid': '32a2e3b6-6568-4cdb-b7dd-a315c86e1d4b',\n",
       "              'xaxis': 'x3',\n",
       "              'yaxis': 'y5'},\n",
       "             {'legendgroup': '3',\n",
       "              'line': {'color': '#FB0D0D', 'dash': 'dot', 'width': 1},\n",
       "              'mode': 'lines',\n",
       "              'name': 'NegTrades',\n",
       "              'type': 'scatter',\n",
       "              'uid': '89364f35-6b21-42b8-b15d-4c2dcbd846dd',\n",
       "              'xaxis': 'x3',\n",
       "              'yaxis': 'y5'},\n",
       "             {'legendgroup': '3',\n",
       "              'line': {'color': 'rgb(102,102,102)', 'width': 1},\n",
       "              'mode': 'lines',\n",
       "              'name': 'Sparsity',\n",
       "              'type': 'scatter',\n",
       "              'uid': 'ced923a6-8dae-4a7d-86e9-78eb07970d96',\n",
       "              'xaxis': 'x3',\n",
       "              'yaxis': 'y6'}],\n",
       "    'layout': {'annotations': [{'font': {'size': 16},\n",
       "                                'showarrow': False,\n",
       "                                'text': 'Trade Balance',\n",
       "                                'x': 0.47,\n",
       "                                'xanchor': 'center',\n",
       "                                'xref': 'paper',\n",
       "                                'y': 1.0,\n",
       "                                'yanchor': 'bottom',\n",
       "                                'yref': 'paper'},\n",
       "                               {'font': {'size': 16},\n",
       "                                'showarrow': False,\n",
       "                                'text': 'Penalties',\n",
       "                                'x': 0.47,\n",
       "                                'xanchor': 'center',\n",
       "                                'xref': 'paper',\n",
       "                                'y': 0.6399999999999999,\n",
       "                                'yanchor': 'bottom',\n",
       "                                'yref': 'paper'},\n",
       "                               {'font': {'size': 16},\n",
       "                                'showarrow': False,\n",
       "                                'text': 'Num of trades by profit',\n",
       "                                'x': 0.47,\n",
       "                                'xanchor': 'center',\n",
       "                                'xref': 'paper',\n",
       "                                'y': 0.27999999999999997,\n",
       "                                'yanchor': 'bottom',\n",
       "                                'yref': 'paper'}],\n",
       "               'autosize': False,\n",
       "               'height': 800,\n",
       "               'legend': {'tracegroupgap': 180},\n",
       "               'paper_bgcolor': 'rgba(255,255,255,0)',\n",
       "               'plot_bgcolor': 'rgba(245,245,245,245)',\n",
       "               'template': '...',\n",
       "               'width': 1000,\n",
       "               'xaxis': {'anchor': 'y', 'domain': [0.0, 0.94], 'matches': 'x3', 'showticklabels': False},\n",
       "               'xaxis2': {'anchor': 'y3', 'domain': [0.0, 0.94], 'matches': 'x3', 'showticklabels': False},\n",
       "               'xaxis3': {'anchor': 'y5', 'domain': [0.0, 0.94]},\n",
       "               'yaxis': {'anchor': 'x', 'domain': [0.72, 1.0]},\n",
       "               'yaxis2': {'anchor': 'x', 'overlaying': 'y', 'side': 'right'},\n",
       "               'yaxis3': {'anchor': 'x2', 'domain': [0.36, 0.6399999999999999]},\n",
       "               'yaxis4': {'anchor': 'x2', 'overlaying': 'y3', 'side': 'right'},\n",
       "               'yaxis5': {'anchor': 'x3', 'domain': [0.0, 0.27999999999999997]},\n",
       "               'yaxis6': {'anchor': 'x3', 'overlaying': 'y5', 'range': [0, 1], 'showgrid': False, 'side': 'right'}}\n",
       "})"
      ]
     },
     "metadata": {},
     "output_type": "display_data"
    }
   ],
   "source": [
    "tp.init_plot(width=1000, height=800)\n",
    "tp.update_plot(tm.history)"
   ]
  },
  {
   "cell_type": "code",
   "execution_count": 18,
   "metadata": {
    "scrolled": false
   },
   "outputs": [
    {
     "name": "stdout",
     "output_type": "stream",
     "text": [
      "11:01:34 Running reward: -92.50   at episode 3    | frame 250    | eps: 0.88 | Running loss: 0.84209\n",
      "11:01:37 Running reward: -82.80   at episode 6    | frame 500    | eps: 0.75 | Running loss: 0.79794\n",
      "11:01:40 Running reward: -85.29   at episode 8    | frame 750    | eps: 0.63 | Running loss: 0.79133\n",
      "11:01:43 Running reward: -94.00   at episode 11   | frame 1000   | eps: 0.50 | Running loss: 0.80614\n",
      "11:01:46 Running reward: -98.17   at episode 13   | frame 1250   | eps: 0.38 | Running loss: 0.81735\n",
      "11:01:49 Running reward: -83.80   at episode 16   | frame 1500   | eps: 0.26 | Running loss: 0.81541\n",
      "11:01:53 Running reward: -75.41   at episode 18   | frame 1750   | eps: 0.13 | Running loss: 0.80152\n",
      "11:01:56 Running reward: -60.90   at episode 21   | frame 2000   | eps: 0.01 | Running loss: 0.77411\n",
      "11:02:00 Running reward: -51.09   at episode 23   | frame 2250   | eps: 0.01 | Running loss: 0.75495\n",
      "11:02:03 Running reward: -39.12   at episode 26   | frame 2500   | eps: 0.01 | Running loss: 0.72264\n",
      "11:02:07 Running reward: -29.79   at episode 29   | frame 2750   | eps: 0.01 | Running loss: 0.68696\n",
      "11:02:10 Running reward: -24.67   at episode 31   | frame 3000   | eps: 0.01 | Running loss: 0.66067\n",
      "11:02:14 Running reward: -11.90   at episode 34   | frame 3250   | eps: 0.01 | Running loss: 0.59510\n",
      "11:02:17 Running reward: -3.00    at episode 36   | frame 3500   | eps: 0.01 | Running loss: 0.55374\n",
      "11:02:21 Running reward: 11.13    at episode 39   | frame 3750   | eps: 0.01 | Running loss: 0.48638\n",
      "11:02:24 Running reward: 22.30    at episode 41   | frame 4000   | eps: 0.01 | Running loss: 0.43726\n",
      "11:02:28 Running reward: 35.87    at episode 44   | frame 4250   | eps: 0.01 | Running loss: 0.36228\n",
      "11:02:31 Running reward: 40.80    at episode 46   | frame 4500   | eps: 0.01 | Running loss: 0.31776\n",
      "11:02:35 Running reward: 46.57    at episode 49   | frame 4750   | eps: 0.01 | Running loss: 0.26113\n",
      "11:02:39 Running reward: 47.47    at episode 52   | frame 5000   | eps: 0.01 | Running loss: 0.21434\n",
      "done\n"
     ]
    }
   ],
   "source": [
    "tm.go(max_frames=5000, test_every=100, snapshot_every=500000, update_plot_every=100, save_since=0.06)"
   ]
  },
  {
   "cell_type": "markdown",
   "metadata": {},
   "source": [
    "# Итоги\n",
    "\n",
    "Наиболее простая задача из всех.\n",
    "\n",
    "Сеть обучилась эффективному алгоримту - открывает и сразу закрывает сделку, без ожидания. Чем больше количество закрытых сделок, тем выше совокупная награда.\n",
    "\n",
    "Протестировал разные learning rate. При маленьких зщначениях (0.00025) обучается дольше, по мере роста  (0.001 и выше) - быстрее вызходит на оптимальный результат. При высоком значении (0.5) алгоритм начало колбасить. \n",
    "\n",
    "Увеличение глубины сети компенсирует длительность обучения при маленькой learning rate - с добавлением следующего слоя скорость обучения возрастает. Но процес не линейный - с определенного момента длительность обучения начинает увеличиваться (затухание градиента?)\n",
    "\n",
    "Увеличение сложности сети (кол-ва параметров, не слоев) дает такой же эффект - обучается быстрее и стабильнее. И здесь все линейно - даже при увеличении количества нейронов на 2 порядка обучается стабильно. Снижение скорости обучения будет заметно на большой сети/наборе данных.\n",
    "\n"
   ]
  },
  {
   "cell_type": "markdown",
   "metadata": {},
   "source": [
    "----\n",
    "\n",
    "\n",
    "При одном слое из 4-х нейронов к концу обучения не выходила на оптимальнsй результат. При увеличении кол-ва нейронов или глубины алгоритм стал сходиться.\n",
    "\n",
    "\n",
    "При lr=0.00025 на оптимум сеть вышла после 5-7 тыс фреймов. Если поставить lr выше (например 0.005) то выход на оптимум происходим быстрее - \n",
    "\n",
    "- 4A\n",
    "    - 0.00025\n",
    "        - 1200 и 3200\n",
    "        - 7100\n",
    "        - 4100, штрафы ушли с 1000\n",
    "        - 3500, штрафы ушли с 1400\n",
    "        - 2500, штрафы ушли с 2600\n",
    "        - 2400, штрафы ушли с 2500\n",
    "    - 0.0005\n",
    "        - 400, штрафы ушли с 400\n",
    "        - 900, штрафы ушли с 900\n",
    "        - 2500, штрафы ушли с 900\n",
    "        - 900, штрафы ушли с 200\n",
    "        - 1300, штрафы ушли с 1300\n",
    "        \n",
    "    - 0.001\n",
    "        - 1800, штрафы ушли с 500\n",
    "        - 300, штрафы ушли с 300\n",
    "        - 1600, штрафы ушли с 700\n",
    "        - 800, штрафы ушли с 800\n",
    "        - 1500, штрафы ушли с 800\n",
    "        \n",
    "    - 0.002\n",
    "        - 1200, штрафы ушли с 300\n",
    "        - 200, штрафы ушли с 100\n",
    "        - 300, штрафы ушли с 300\n",
    "        - 300, штрафы ушли с 300\n",
    "        - 400, штрафы ушли с 400\n",
    "        \n",
    "    - 0.005\n",
    "        - 300, штрафы ушли с 100\n",
    "        - 100, штрафы ушли с 100\n",
    "        - 300 и 1000, штрафы ушли с 300\n",
    "        - 200, штрафы ушли с 200\n",
    "        - 1000, штрафы ушли с 400\n",
    "    - 0.5 - нестабильно\n",
    "    "
   ]
  },
  {
   "cell_type": "code",
   "execution_count": null,
   "metadata": {},
   "outputs": [],
   "source": []
  }
 ],
 "metadata": {
  "kernelspec": {
   "display_name": "rt_project_env",
   "language": "python",
   "name": "rt_project_env"
  },
  "language_info": {
   "codemirror_mode": {
    "name": "ipython",
    "version": 3
   },
   "file_extension": ".py",
   "mimetype": "text/x-python",
   "name": "python",
   "nbconvert_exporter": "python",
   "pygments_lexer": "ipython3",
   "version": "3.9.8"
  }
 },
 "nbformat": 4,
 "nbformat_minor": 4
}
