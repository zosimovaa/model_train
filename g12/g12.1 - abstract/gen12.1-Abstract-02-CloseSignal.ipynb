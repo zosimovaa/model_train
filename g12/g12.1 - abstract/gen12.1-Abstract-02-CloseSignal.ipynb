{
 "cells": [
  {
   "cell_type": "markdown",
   "metadata": {},
   "source": [
    "# Постановка задачи\n",
    "\n",
    "## Task #1\n",
    "\n",
    "**Цель**\n",
    "Обучаем сеть корректной последовательности действий на бирже: ожидание покупки -> покупка -> ожидание продажи -> продажа.\n",
    " \n",
    "**Observation**\n",
    " - Состояние сделки\n",
    "\n",
    "**Действия**\n",
    " 1. Ожидание момента для покупки\n",
    " 2. Покупка (открытие позиции)\n",
    " 3. Ожидание момента для продажи\n",
    " 4. Продажа (закрытие позици)\n",
    "\n",
    "**Награда/штраф**\n",
    "Действия 1 и 2 возможны при отсутствии открытой позиции. Действия 3 и 4 допустимы только при открытой позиции. При нарушении этого требования - сеть штрафуется.\n",
    " \n",
    "Сеть получает награду при закрытии позиции."
   ]
  },
  {
   "cell_type": "markdown",
   "metadata": {},
   "source": [
    "# Импорты"
   ]
  },
  {
   "cell_type": "code",
   "execution_count": 1,
   "metadata": {},
   "outputs": [
    {
     "name": "stdout",
     "output_type": "stream",
     "text": [
      "gen12.1-Abstract-02-CloseSignal\n"
     ]
    }
   ],
   "source": [
    "# Системные импорты и настройки\n",
    "import os\n",
    "import sys\n",
    "import yaml\n",
    "import random\n",
    "import warnings\n",
    "import ipynbname\n",
    "import logging.config\n",
    "\n",
    "warnings.filterwarnings('ignore')\n",
    "\n",
    "# for local development\n",
    "RT_LIBS_PATH = \"/Users/alex/Dev_projects/MyOwnRepo/rt_libs/src\"\n",
    "BA_LIBS_PATH = \"/Users/alex/Dev_projects/MyOwnRepo/basic_application/src\"\n",
    "sys.path.append(RT_LIBS_PATH)\n",
    "sys.path.append(BA_LIBS_PATH)\n",
    "\n",
    "# read config\n",
    "with open('config.yaml', \"r\") as stream:\n",
    "    config = yaml.safe_load(stream)\n",
    "    \n",
    "# set logging config\n",
    "log_config = config.get(\"log\", None)\n",
    "logging.config.dictConfig(log_config)\n",
    "\n",
    "# set notebook alias\n",
    "ALIAS = ipynbname.name()\n",
    "print(ALIAS)"
   ]
  },
  {
   "cell_type": "code",
   "execution_count": 2,
   "metadata": {},
   "outputs": [],
   "source": [
    "# DS frameworks\n",
    "import numpy as np\n",
    "import pandas as pd\n",
    "\n",
    "from sklearn.model_selection import train_test_split\n",
    "\n",
    "import matplotlib.pyplot as plt\n",
    "import matplotlib.patches as mpatches\n",
    "import seaborn as sns\n",
    "\n",
    "%matplotlib notebook"
   ]
  },
  {
   "cell_type": "code",
   "execution_count": 3,
   "metadata": {},
   "outputs": [
    {
     "name": "stderr",
     "output_type": "stream",
     "text": [
      "2023-09-23 10:50:47.730229: I tensorflow/core/platform/cpu_feature_guard.cc:193] This TensorFlow binary is optimized with oneAPI Deep Neural Network Library (oneDNN) to use the following CPU instructions in performance-critical operations:  AVX2 FMA\n",
      "To enable them in other operations, rebuild TensorFlow with the appropriate compiler flags.\n"
     ]
    },
    {
     "name": "stdout",
     "output_type": "stream",
     "text": [
      "[PhysicalDevice(name='/physical_device:CPU:0', device_type='CPU')]\n"
     ]
    }
   ],
   "source": [
    "# NN Frameworks\n",
    "import tensorflow as tf\n",
    "from tensorflow.keras.layers import Input, Dense, LSTM, Dropout, Concatenate, BatchNormalization\n",
    "from tensorflow.keras.layers import Conv1D, MaxPool1D, AveragePooling1D, Flatten\n",
    "from tensorflow.keras.optimizers import Adam, RMSprop, SGD\n",
    "from tensorflow.keras.models import Model\n",
    "from tensorflow.keras.models import Sequential\n",
    "from tensorflow.python.keras.models import load_model, clone_model\n",
    "\n",
    "devices = tf.config.list_physical_devices()\n",
    "print(devices)"
   ]
  },
  {
   "cell_type": "code",
   "execution_count": 4,
   "metadata": {},
   "outputs": [],
   "source": [
    "# RT packages\n",
    "from rl import DQNAgent\n",
    "from env import TradeEnv\n",
    "from core_v2 import Constructor, Player\n",
    "\n",
    "\n",
    "from core_v2.data_point import DataPointFactory\n",
    "\n",
    "from core_v2.observation_builder.precompute import PrecomputeOrderbookDiffFeature\n",
    "\n",
    "from train_tools import plot_and_go\n",
    "from train_tools.train_plot import TrainPlot4\n",
    "from train_tools.train_manager import TrainManager"
   ]
  },
  {
   "cell_type": "code",
   "execution_count": 5,
   "metadata": {},
   "outputs": [],
   "source": [
    "seed_value= 0\n",
    "#os.environ['PYTHONHASHSEED']=str(seed_value)\n",
    "random.seed(seed_value)\n",
    "#np.random.seed(seed_value)\n",
    "#tf.random.set_seed(seed_value)"
   ]
  },
  {
   "cell_type": "markdown",
   "metadata": {},
   "source": [
    "# Конфиг"
   ]
  },
  {
   "cell_type": "code",
   "execution_count": 6,
   "metadata": {},
   "outputs": [],
   "source": [
    "observation_len = 1\n",
    "\n",
    "# Параметры точки наблюдения\n",
    "observation_config = {\n",
    "    \"observation_len\": observation_len,             # Количество точек наблюдения в сэмпле\n",
    "    \"offset\": observation_len,                      # Количество точек наблюдения в сэмпле\n",
    "    \"future_points\": 0,                             # Количество будущех точек для предсказания тренда (временное решение)\n",
    "    \"step_size\": 1,                                 # Шаг по датасету\n",
    " }"
   ]
  },
  {
   "cell_type": "markdown",
   "metadata": {},
   "source": [
    "# Датасет"
   ]
  },
  {
   "cell_type": "code",
   "execution_count": 7,
   "metadata": {},
   "outputs": [
    {
     "name": "stdout",
     "output_type": "stream",
     "text": [
      "10\n",
      "100\n"
     ]
    },
    {
     "data": {
      "text/html": [
       "<div>\n",
       "<style scoped>\n",
       "    .dataframe tbody tr th:only-of-type {\n",
       "        vertical-align: middle;\n",
       "    }\n",
       "\n",
       "    .dataframe tbody tr th {\n",
       "        vertical-align: top;\n",
       "    }\n",
       "\n",
       "    .dataframe thead th {\n",
       "        text-align: right;\n",
       "    }\n",
       "</style>\n",
       "<table border=\"1\" class=\"dataframe\">\n",
       "  <thead>\n",
       "    <tr style=\"text-align: right;\">\n",
       "      <th></th>\n",
       "      <th>lowest_ask</th>\n",
       "      <th>highest_bid</th>\n",
       "      <th>close_signal</th>\n",
       "    </tr>\n",
       "  </thead>\n",
       "  <tbody>\n",
       "    <tr>\n",
       "      <th>0</th>\n",
       "      <td>1</td>\n",
       "      <td>1</td>\n",
       "      <td>0</td>\n",
       "    </tr>\n",
       "    <tr>\n",
       "      <th>1</th>\n",
       "      <td>1</td>\n",
       "      <td>1</td>\n",
       "      <td>0</td>\n",
       "    </tr>\n",
       "    <tr>\n",
       "      <th>2</th>\n",
       "      <td>1</td>\n",
       "      <td>1</td>\n",
       "      <td>0</td>\n",
       "    </tr>\n",
       "    <tr>\n",
       "      <th>3</th>\n",
       "      <td>1</td>\n",
       "      <td>1</td>\n",
       "      <td>0</td>\n",
       "    </tr>\n",
       "    <tr>\n",
       "      <th>4</th>\n",
       "      <td>1</td>\n",
       "      <td>1</td>\n",
       "      <td>0</td>\n",
       "    </tr>\n",
       "    <tr>\n",
       "      <th>5</th>\n",
       "      <td>1</td>\n",
       "      <td>2</td>\n",
       "      <td>1</td>\n",
       "    </tr>\n",
       "    <tr>\n",
       "      <th>6</th>\n",
       "      <td>1</td>\n",
       "      <td>1</td>\n",
       "      <td>0</td>\n",
       "    </tr>\n",
       "    <tr>\n",
       "      <th>7</th>\n",
       "      <td>1</td>\n",
       "      <td>1</td>\n",
       "      <td>0</td>\n",
       "    </tr>\n",
       "    <tr>\n",
       "      <th>8</th>\n",
       "      <td>1</td>\n",
       "      <td>1</td>\n",
       "      <td>0</td>\n",
       "    </tr>\n",
       "    <tr>\n",
       "      <th>9</th>\n",
       "      <td>1</td>\n",
       "      <td>1</td>\n",
       "      <td>0</td>\n",
       "    </tr>\n",
       "    <tr>\n",
       "      <th>10</th>\n",
       "      <td>1</td>\n",
       "      <td>2</td>\n",
       "      <td>1</td>\n",
       "    </tr>\n",
       "    <tr>\n",
       "      <th>11</th>\n",
       "      <td>1</td>\n",
       "      <td>1</td>\n",
       "      <td>0</td>\n",
       "    </tr>\n",
       "    <tr>\n",
       "      <th>12</th>\n",
       "      <td>1</td>\n",
       "      <td>1</td>\n",
       "      <td>0</td>\n",
       "    </tr>\n",
       "    <tr>\n",
       "      <th>13</th>\n",
       "      <td>1</td>\n",
       "      <td>1</td>\n",
       "      <td>0</td>\n",
       "    </tr>\n",
       "  </tbody>\n",
       "</table>\n",
       "</div>"
      ],
      "text/plain": [
       "    lowest_ask  highest_bid  close_signal\n",
       "0            1            1             0\n",
       "1            1            1             0\n",
       "2            1            1             0\n",
       "3            1            1             0\n",
       "4            1            1             0\n",
       "5            1            2             1\n",
       "6            1            1             0\n",
       "7            1            1             0\n",
       "8            1            1             0\n",
       "9            1            1             0\n",
       "10           1            2             1\n",
       "11           1            1             0\n",
       "12           1            1             0\n",
       "13           1            1             0"
      ]
     },
     "execution_count": 7,
     "metadata": {},
     "output_type": "execute_result"
    }
   ],
   "source": [
    "np.random.seed(2)\n",
    "\n",
    "n_steps = 100\n",
    "sample_num = 10\n",
    "sample_size = n_steps//sample_num\n",
    "safe_interval_size = 3\n",
    "\n",
    "close_signal = np.empty(0)\n",
    "\n",
    "sample_size_ = sample_size - safe_interval_size\n",
    "for i in range(sample_num):\n",
    "    safe_interval = np.zeros(safe_interval_size)\n",
    "    total = 0\n",
    "    while not total==1:\n",
    "        sample = np.random.uniform(size=sample_size_) > 0.9\n",
    "        total = sum(sample)\n",
    "\n",
    "    close_signal = np.concatenate([close_signal, sample, safe_interval])\n",
    "\n",
    "close_signal = close_signal.reshape(-1,1)\n",
    "lowest_ask = np.ones(len(close_signal)).reshape(-1,1) * 1\n",
    "highest_bid = np.ones(len(close_signal)).reshape(-1,1) * 1 + close_signal\n",
    "\n",
    "dataset = np.concatenate([lowest_ask, highest_bid, close_signal], axis=1)\n",
    "\n",
    "data_train = pd.DataFrame(dataset, columns=[\"lowest_ask\", \"highest_bid\", \"close_signal\"], dtype=np.int8)\n",
    "\n",
    "#data_train['close_signal'] = data_train['close_signal'].replace(0, -1)\n",
    "#data_train['close_signal'] = data_train['close_signal'].replace(1, 0.5)\n",
    "#data_train['close_signal']  = data_train['close_signal']  - 0.5\n",
    "\n",
    "print(data_train[\"close_signal\"].sum())\n",
    "print(data_train[\"close_signal\"].count())\n",
    "data_train.head(14)"
   ]
  },
  {
   "cell_type": "code",
   "execution_count": null,
   "metadata": {},
   "outputs": [],
   "source": []
  },
  {
   "cell_type": "markdown",
   "metadata": {},
   "source": [
    "# Инициализация компонентов"
   ]
  },
  {
   "cell_type": "markdown",
   "metadata": {},
   "source": [
    "## Datapoint factory"
   ]
  },
  {
   "cell_type": "code",
   "execution_count": 8,
   "metadata": {},
   "outputs": [],
   "source": [
    "dpf_train = DataPointFactory(dataset=data_train, **observation_config)\n",
    "dpf_test = DataPointFactory(dataset=data_train, **observation_config)"
   ]
  },
  {
   "cell_type": "markdown",
   "metadata": {},
   "source": [
    "## Env"
   ]
  },
  {
   "cell_type": "code",
   "execution_count": 9,
   "metadata": {},
   "outputs": [],
   "source": [
    "core_config = {\n",
    "    \"action_controller\":{\"class\": \"AbstractTrainController\", \"params\":{ \n",
    "            \"penalty\": -1, \n",
    "            \"wait_scale\": 0, \n",
    "            \"open_scale\": 0, \n",
    "            \"hold_scale\": 0, \n",
    "            \"close_scale\": 1, \n",
    "            \"last_points_mean\": 0\n",
    "        },},\n",
    "\n",
    "\n",
    "    \"observation_builder\":{\n",
    "        \"class\": \"ObservationBuilder\",\n",
    "        \"inputs\": [\n",
    "            {\"class\": \"Input1D\", \"features\": [\n",
    "                {\"class\": \"RawContextFeature\", \"params\": {\"name\":\"is_open\"}},\n",
    "                {\"class\": \"RawValueFeature\", \"params\": {\"name\":\"close_signal\"}}\n",
    "            ]},\n",
    "    ]\n",
    "    }\n",
    "}\n",
    "# = = = = = = = = = = = = = = = = = = = = = = = = = = = = =\n",
    "core_constructor = Constructor()\n",
    "env_core = core_constructor.get_core(ALIAS, core_config)\n",
    "\n",
    "# train environment\n",
    "env = TradeEnv(env_core, dpf_train, alias=ALIAS, log=True, log_obs=True)"
   ]
  },
  {
   "cell_type": "markdown",
   "metadata": {},
   "source": [
    "# Нейронная сеть"
   ]
  },
  {
   "cell_type": "code",
   "execution_count": 10,
   "metadata": {},
   "outputs": [
    {
     "name": "stdout",
     "output_type": "stream",
     "text": [
      "Model: \"model\"\n",
      "_________________________________________________________________\n",
      " Layer (type)                Output Shape              Param #   \n",
      "=================================================================\n",
      " input_1 (InputLayer)        [(None, 2)]               0         \n",
      "                                                                 \n",
      " dense (Dense)               (None, 32)                96        \n",
      "                                                                 \n",
      " dense_1 (Dense)             (None, 32)                1056      \n",
      "                                                                 \n",
      " dense_2 (Dense)             (None, 32)                1056      \n",
      "                                                                 \n",
      " dense_3 (Dense)             (None, 4)                 132       \n",
      "                                                                 \n",
      "=================================================================\n",
      "Total params: 2,340\n",
      "Trainable params: 2,340\n",
      "Non-trainable params: 0\n",
      "_________________________________________________________________\n",
      "None\n"
     ]
    },
    {
     "name": "stderr",
     "output_type": "stream",
     "text": [
      "2023-09-23 10:50:55.302766: I tensorflow/core/platform/cpu_feature_guard.cc:193] This TensorFlow binary is optimized with oneAPI Deep Neural Network Library (oneDNN) to use the following CPU instructions in performance-critical operations:  AVX2 FMA\n",
      "To enable them in other operations, rebuild TensorFlow with the appropriate compiler flags.\n"
     ]
    }
   ],
   "source": [
    "ACTIVATION = 'relu'\n",
    "def create_q_model(env):\n",
    "    num_actions = env.action_space\n",
    "    #----------------------------------------------\n",
    "    \n",
    "    inp_static = Input(shape=env.observation_space[0])\n",
    "    classif = Dense(32, activation=ACTIVATION)(inp_static)\n",
    "    classif = Dense(32, activation=ACTIVATION)(classif)\n",
    "    classif = Dense(32, activation=ACTIVATION)(classif)\n",
    "    output = Dense(num_actions, activation='softmax')(classif)\n",
    "\n",
    "    model = Model(inputs=inp_static, outputs=output)\n",
    "    return model\n",
    "\n",
    "model = create_q_model(env)\n",
    "model_target = create_q_model(env)\n",
    "\n",
    "print(model.summary())"
   ]
  },
  {
   "cell_type": "markdown",
   "metadata": {},
   "source": [
    "# Обучение"
   ]
  },
  {
   "cell_type": "code",
   "execution_count": 14,
   "metadata": {},
   "outputs": [],
   "source": [
    "random.seed(seed_value)\n",
    "\n",
    "core_train = core_constructor.get_core(\"train\", core_config)\n",
    "env = TradeEnv(core_train, dpf_train, alias=ALIAS, log=True, log_obs=True)\n",
    "\n",
    "model = create_q_model(env)\n",
    "model_target = create_q_model(env)\n",
    "agent = DQNAgent(env, model, model_target)\n",
    "\n",
    "agent.epsilon_greedy_frames = 2000\n",
    "agent.epsilon_random_frames = int(0.05 * agent.epsilon_greedy_frames)\n",
    "agent.max_memory_length = int(1.0 * agent.epsilon_greedy_frames)\n",
    "agent.max_steps_per_episode = 50000\n",
    "agent.gamma = 0.95\n",
    "agent.epsilon_min = 0.01\n",
    "agent.batch_size = 32\n",
    "agent.update_after_actions = 4\n",
    "agent.update_target_network = 1000\n",
    "agent.loss_function = tf.keras.losses.Huber() #tf.keras.losses.MeanSquaredError()\n",
    "agent.optimizer = Adam(learning_rate=0.0005, clipnorm=0.001)    #Adam(learning_rate=learning_rate) RMSprop(learning_rate=learning_rate) SGD(learning_rate=learning_rate)\n",
    "\n",
    "\n",
    "tp = TrainPlot4()\n",
    "core_test = core_constructor.get_core(\"test\", core_config)\n",
    "tm = TrainManager(agent, core_test, dpf_test, tp, alias=ALIAS)"
   ]
  },
  {
   "cell_type": "code",
   "execution_count": 15,
   "metadata": {},
   "outputs": [
    {
     "data": {
      "application/vnd.jupyter.widget-view+json": {
       "model_id": "e11a7aea85894df2b14df8798449e99f",
       "version_major": 2,
       "version_minor": 0
      },
      "text/plain": [
       "FigureWidget({\n",
       "    'data': [{'legendgroup': '1',\n",
       "              'line': {'color': '#109618', 'width': 1},\n",
       "              'mode': 'lines',\n",
       "              'name': 'Train',\n",
       "              'type': 'scatter',\n",
       "              'uid': '5bd674be-c730-4665-aff9-4f5768b9a1fb',\n",
       "              'xaxis': 'x',\n",
       "              'yaxis': 'y'},\n",
       "             {'legendgroup': '1',\n",
       "              'line': {'color': '#FF9900', 'width': 1},\n",
       "              'mode': 'lines',\n",
       "              'name': 'Test',\n",
       "              'type': 'scatter',\n",
       "              'uid': 'f2bbf3ac-db55-4325-abac-5897c0f1a4ec',\n",
       "              'xaxis': 'x',\n",
       "              'yaxis': 'y'},\n",
       "             {'legendgroup': '2',\n",
       "              'line': {'color': '#D62728', 'width': 1},\n",
       "              'mode': 'lines',\n",
       "              'name': 'Train',\n",
       "              'type': 'scatter',\n",
       "              'uid': '44966bf9-7e74-4dca-bef3-59189bf9d870',\n",
       "              'xaxis': 'x2',\n",
       "              'yaxis': 'y3'},\n",
       "             {'legendgroup': '2',\n",
       "              'line': {'color': '#FF9900', 'width': 1},\n",
       "              'mode': 'lines',\n",
       "              'name': 'Test',\n",
       "              'type': 'scatter',\n",
       "              'uid': '0bdc4a97-f0de-4158-8661-ce78f519f066',\n",
       "              'xaxis': 'x2',\n",
       "              'yaxis': 'y3'},\n",
       "             {'legendgroup': '3',\n",
       "              'line': {'color': '#1616A7', 'dash': 'dot', 'width': 1},\n",
       "              'mode': 'lines',\n",
       "              'name': 'PosTrades',\n",
       "              'type': 'scatter',\n",
       "              'uid': '70c12810-480d-47ab-9cad-2b0b7feab2d4',\n",
       "              'xaxis': 'x3',\n",
       "              'yaxis': 'y5'},\n",
       "             {'legendgroup': '3',\n",
       "              'line': {'color': '#FB0D0D', 'dash': 'dot', 'width': 1},\n",
       "              'mode': 'lines',\n",
       "              'name': 'NegTrades',\n",
       "              'type': 'scatter',\n",
       "              'uid': 'b20e79c4-7505-4a81-a394-e85aabed7083',\n",
       "              'xaxis': 'x3',\n",
       "              'yaxis': 'y5'},\n",
       "             {'legendgroup': '3',\n",
       "              'line': {'color': 'rgb(102,102,102)', 'width': 1},\n",
       "              'mode': 'lines',\n",
       "              'name': 'Sparsity',\n",
       "              'type': 'scatter',\n",
       "              'uid': 'e5e0f17d-8193-45a0-9197-9b67fe114ba4',\n",
       "              'xaxis': 'x3',\n",
       "              'yaxis': 'y6'}],\n",
       "    'layout': {'annotations': [{'font': {'size': 16},\n",
       "                                'showarrow': False,\n",
       "                                'text': 'Trade Balance',\n",
       "                                'x': 0.47,\n",
       "                                'xanchor': 'center',\n",
       "                                'xref': 'paper',\n",
       "                                'y': 1.0,\n",
       "                                'yanchor': 'bottom',\n",
       "                                'yref': 'paper'},\n",
       "                               {'font': {'size': 16},\n",
       "                                'showarrow': False,\n",
       "                                'text': 'Penalties',\n",
       "                                'x': 0.47,\n",
       "                                'xanchor': 'center',\n",
       "                                'xref': 'paper',\n",
       "                                'y': 0.6399999999999999,\n",
       "                                'yanchor': 'bottom',\n",
       "                                'yref': 'paper'},\n",
       "                               {'font': {'size': 16},\n",
       "                                'showarrow': False,\n",
       "                                'text': 'Num of trades by profit',\n",
       "                                'x': 0.47,\n",
       "                                'xanchor': 'center',\n",
       "                                'xref': 'paper',\n",
       "                                'y': 0.27999999999999997,\n",
       "                                'yanchor': 'bottom',\n",
       "                                'yref': 'paper'}],\n",
       "               'autosize': False,\n",
       "               'height': 800,\n",
       "               'legend': {'tracegroupgap': 180},\n",
       "               'paper_bgcolor': 'rgba(255,255,255,0)',\n",
       "               'plot_bgcolor': 'rgba(245,245,245,245)',\n",
       "               'template': '...',\n",
       "               'width': 1000,\n",
       "               'xaxis': {'anchor': 'y', 'domain': [0.0, 0.94], 'matches': 'x3', 'showticklabels': False},\n",
       "               'xaxis2': {'anchor': 'y3', 'domain': [0.0, 0.94], 'matches': 'x3', 'showticklabels': False},\n",
       "               'xaxis3': {'anchor': 'y5', 'domain': [0.0, 0.94]},\n",
       "               'yaxis': {'anchor': 'x', 'domain': [0.72, 1.0]},\n",
       "               'yaxis2': {'anchor': 'x', 'overlaying': 'y', 'side': 'right'},\n",
       "               'yaxis3': {'anchor': 'x2', 'domain': [0.36, 0.6399999999999999]},\n",
       "               'yaxis4': {'anchor': 'x2', 'overlaying': 'y3', 'side': 'right'},\n",
       "               'yaxis5': {'anchor': 'x3', 'domain': [0.0, 0.27999999999999997]},\n",
       "               'yaxis6': {'anchor': 'x3', 'overlaying': 'y5', 'range': [0, 1], 'showgrid': False, 'side': 'right'}}\n",
       "})"
      ]
     },
     "metadata": {},
     "output_type": "display_data"
    }
   ],
   "source": [
    "tp.init_plot(width=1000, height=800)\n",
    "tp.update_plot(tm.history)"
   ]
  },
  {
   "cell_type": "code",
   "execution_count": 16,
   "metadata": {},
   "outputs": [
    {
     "name": "stdout",
     "output_type": "stream",
     "text": [
      "13:24:15 Running reward: -24.80   at episode 11   | frame 1000   | eps: 0.50 | Running loss: 0.15919\n",
      "13:24:29 Running reward: -16.10   at episode 21   | frame 2000   | eps: 0.01 | Running loss: 0.11702\n",
      "13:24:43 Running reward: -10.60   at episode 31   | frame 3000   | eps: 0.01 | Running loss: 0.09047\n",
      "13:24:58 Running reward: -1.67    at episode 41   | frame 4000   | eps: 0.01 | Running loss: 0.04333\n",
      "13:25:15 Running reward: 3.60     at episode 52   | frame 5000   | eps: 0.01 | Running loss: 0.02396\n",
      "13:25:34 Running reward: 6.70     at episode 62   | frame 6000   | eps: 0.01 | Running loss: 0.02121\n",
      "13:25:52 Running reward: 9.17     at episode 72   | frame 7000   | eps: 0.01 | Running loss: 0.02542\n",
      "done\n"
     ]
    }
   ],
   "source": [
    "tm.go(max_frames=7000, test_every=100, snapshot_every=500000, update_plot_every=100, save_since=0.06)"
   ]
  },
  {
   "cell_type": "markdown",
   "metadata": {},
   "source": [
    "## Итоги\n",
    "Конфиг из предыдущей задачи не справился за 10к фреймов. \n",
    "\n",
    "- Сделал сеть шире 8х8 -> 32х32: ОК: 8к, 0.9к, 9.4к, 9.6к\n",
    "- Добавил 3 слой на 32 нейрона : ОК 1.3к, 7.4к, 1.1к, 1.1к\n",
    "\n",
    "По итогу работает таже схема - сеть погрубже и пошире и алгоритм справляется с задачей более уверенно.\n"
   ]
  },
  {
   "cell_type": "code",
   "execution_count": null,
   "metadata": {},
   "outputs": [],
   "source": []
  },
  {
   "cell_type": "code",
   "execution_count": null,
   "metadata": {},
   "outputs": [],
   "source": []
  },
  {
   "cell_type": "code",
   "execution_count": null,
   "metadata": {},
   "outputs": [],
   "source": []
  },
  {
   "cell_type": "code",
   "execution_count": null,
   "metadata": {},
   "outputs": [],
   "source": []
  },
  {
   "cell_type": "code",
   "execution_count": null,
   "metadata": {},
   "outputs": [],
   "source": []
  }
 ],
 "metadata": {
  "kernelspec": {
   "display_name": "rt_project_env",
   "language": "python",
   "name": "rt_project_env"
  },
  "language_info": {
   "codemirror_mode": {
    "name": "ipython",
    "version": 3
   },
   "file_extension": ".py",
   "mimetype": "text/x-python",
   "name": "python",
   "nbconvert_exporter": "python",
   "pygments_lexer": "ipython3",
   "version": "3.9.8"
  }
 },
 "nbformat": 4,
 "nbformat_minor": 4
}
